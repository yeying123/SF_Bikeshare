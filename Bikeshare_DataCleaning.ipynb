{
 "cells": [
  {
   "cell_type": "code",
   "execution_count": 1,
   "metadata": {},
   "outputs": [],
   "source": [
    "import pandas as pd\n",
    "import geopandas as gpd\n",
    "import matplotlib.pyplot as plt"
   ]
  },
  {
   "cell_type": "code",
   "execution_count": 2,
   "metadata": {},
   "outputs": [
    {
     "name": "stderr",
     "output_type": "stream",
     "text": [
      "/Users/yeyinghuang/opt/anaconda3/lib/python3.7/site-packages/IPython/core/interactiveshell.py:3058: DtypeWarning: Columns (13) have mixed types. Specify dtype option on import or set low_memory=False.\n",
      "  interactivity=interactivity, compiler=compiler, result=result)\n"
     ]
    }
   ],
   "source": [
    "# Import data\n",
    "bikeshare_Feb2020=pd.read_csv('202002-baywheels-tripdata.csv')"
   ]
  },
  {
   "cell_type": "code",
   "execution_count": 3,
   "metadata": {},
   "outputs": [
    {
     "data": {
      "text/html": [
       "<div>\n",
       "<style scoped>\n",
       "    .dataframe tbody tr th:only-of-type {\n",
       "        vertical-align: middle;\n",
       "    }\n",
       "\n",
       "    .dataframe tbody tr th {\n",
       "        vertical-align: top;\n",
       "    }\n",
       "\n",
       "    .dataframe thead th {\n",
       "        text-align: right;\n",
       "    }\n",
       "</style>\n",
       "<table border=\"1\" class=\"dataframe\">\n",
       "  <thead>\n",
       "    <tr style=\"text-align: right;\">\n",
       "      <th></th>\n",
       "      <th>duration_sec</th>\n",
       "      <th>start_time</th>\n",
       "      <th>end_time</th>\n",
       "      <th>start_station_id</th>\n",
       "      <th>start_station_name</th>\n",
       "      <th>start_station_latitude</th>\n",
       "      <th>start_station_longitude</th>\n",
       "      <th>end_station_id</th>\n",
       "      <th>end_station_name</th>\n",
       "      <th>end_station_latitude</th>\n",
       "      <th>end_station_longitude</th>\n",
       "      <th>bike_id</th>\n",
       "      <th>user_type</th>\n",
       "      <th>rental_access_method</th>\n",
       "    </tr>\n",
       "  </thead>\n",
       "  <tbody>\n",
       "    <tr>\n",
       "      <td>0</td>\n",
       "      <td>62083</td>\n",
       "      <td>2020-02-29 18:32:30.5750</td>\n",
       "      <td>2020-03-01 11:47:14.0850</td>\n",
       "      <td>176.0</td>\n",
       "      <td>MacArthur BART Station</td>\n",
       "      <td>37.828410</td>\n",
       "      <td>-122.266315</td>\n",
       "      <td>267.0</td>\n",
       "      <td>Derby St at College Ave</td>\n",
       "      <td>37.861804</td>\n",
       "      <td>-122.253569</td>\n",
       "      <td>1993</td>\n",
       "      <td>Customer</td>\n",
       "      <td>NaN</td>\n",
       "    </tr>\n",
       "    <tr>\n",
       "      <td>1</td>\n",
       "      <td>1364</td>\n",
       "      <td>2020-02-29 23:53:53.7190</td>\n",
       "      <td>2020-03-01 00:16:37.9720</td>\n",
       "      <td>375.0</td>\n",
       "      <td>Grove St at Masonic Ave</td>\n",
       "      <td>37.774836</td>\n",
       "      <td>-122.446546</td>\n",
       "      <td>506.0</td>\n",
       "      <td>7th Ave at Clement St</td>\n",
       "      <td>37.782439</td>\n",
       "      <td>-122.465377</td>\n",
       "      <td>12402</td>\n",
       "      <td>Customer</td>\n",
       "      <td>NaN</td>\n",
       "    </tr>\n",
       "    <tr>\n",
       "      <td>2</td>\n",
       "      <td>836</td>\n",
       "      <td>2020-02-29 23:54:03.1970</td>\n",
       "      <td>2020-03-01 00:07:59.8490</td>\n",
       "      <td>375.0</td>\n",
       "      <td>Grove St at Masonic Ave</td>\n",
       "      <td>37.774836</td>\n",
       "      <td>-122.446546</td>\n",
       "      <td>454.0</td>\n",
       "      <td>7th Ave at Cabrillo St</td>\n",
       "      <td>37.775176</td>\n",
       "      <td>-122.465007</td>\n",
       "      <td>2302</td>\n",
       "      <td>Customer</td>\n",
       "      <td>NaN</td>\n",
       "    </tr>\n",
       "    <tr>\n",
       "      <td>3</td>\n",
       "      <td>1004</td>\n",
       "      <td>2020-02-29 23:48:34.6480</td>\n",
       "      <td>2020-03-01 00:05:19.2020</td>\n",
       "      <td>179.0</td>\n",
       "      <td>Telegraph Ave at 27th St</td>\n",
       "      <td>37.816073</td>\n",
       "      <td>-122.267886</td>\n",
       "      <td>200.0</td>\n",
       "      <td>2nd Ave at E 18th St</td>\n",
       "      <td>37.800214</td>\n",
       "      <td>-122.253810</td>\n",
       "      <td>902</td>\n",
       "      <td>Customer</td>\n",
       "      <td>NaN</td>\n",
       "    </tr>\n",
       "    <tr>\n",
       "      <td>4</td>\n",
       "      <td>1007</td>\n",
       "      <td>2020-02-29 23:48:25.9000</td>\n",
       "      <td>2020-03-01 00:05:13.4490</td>\n",
       "      <td>179.0</td>\n",
       "      <td>Telegraph Ave at 27th St</td>\n",
       "      <td>37.816073</td>\n",
       "      <td>-122.267886</td>\n",
       "      <td>200.0</td>\n",
       "      <td>2nd Ave at E 18th St</td>\n",
       "      <td>37.800214</td>\n",
       "      <td>-122.253810</td>\n",
       "      <td>11578</td>\n",
       "      <td>Customer</td>\n",
       "      <td>NaN</td>\n",
       "    </tr>\n",
       "  </tbody>\n",
       "</table>\n",
       "</div>"
      ],
      "text/plain": [
       "   duration_sec                start_time                  end_time  \\\n",
       "0         62083  2020-02-29 18:32:30.5750  2020-03-01 11:47:14.0850   \n",
       "1          1364  2020-02-29 23:53:53.7190  2020-03-01 00:16:37.9720   \n",
       "2           836  2020-02-29 23:54:03.1970  2020-03-01 00:07:59.8490   \n",
       "3          1004  2020-02-29 23:48:34.6480  2020-03-01 00:05:19.2020   \n",
       "4          1007  2020-02-29 23:48:25.9000  2020-03-01 00:05:13.4490   \n",
       "\n",
       "   start_station_id        start_station_name  start_station_latitude  \\\n",
       "0             176.0    MacArthur BART Station               37.828410   \n",
       "1             375.0   Grove St at Masonic Ave               37.774836   \n",
       "2             375.0   Grove St at Masonic Ave               37.774836   \n",
       "3             179.0  Telegraph Ave at 27th St               37.816073   \n",
       "4             179.0  Telegraph Ave at 27th St               37.816073   \n",
       "\n",
       "   start_station_longitude  end_station_id         end_station_name  \\\n",
       "0              -122.266315           267.0  Derby St at College Ave   \n",
       "1              -122.446546           506.0    7th Ave at Clement St   \n",
       "2              -122.446546           454.0   7th Ave at Cabrillo St   \n",
       "3              -122.267886           200.0     2nd Ave at E 18th St   \n",
       "4              -122.267886           200.0     2nd Ave at E 18th St   \n",
       "\n",
       "   end_station_latitude  end_station_longitude  bike_id user_type  \\\n",
       "0             37.861804            -122.253569     1993  Customer   \n",
       "1             37.782439            -122.465377    12402  Customer   \n",
       "2             37.775176            -122.465007     2302  Customer   \n",
       "3             37.800214            -122.253810      902  Customer   \n",
       "4             37.800214            -122.253810    11578  Customer   \n",
       "\n",
       "  rental_access_method  \n",
       "0                  NaN  \n",
       "1                  NaN  \n",
       "2                  NaN  \n",
       "3                  NaN  \n",
       "4                  NaN  "
      ]
     },
     "execution_count": 3,
     "metadata": {},
     "output_type": "execute_result"
    }
   ],
   "source": [
    "bikeshare_Feb2020.head(5)"
   ]
  },
  {
   "cell_type": "code",
   "execution_count": 4,
   "metadata": {},
   "outputs": [
    {
     "name": "stdout",
     "output_type": "stream",
     "text": [
      "<class 'pandas.core.frame.DataFrame'>\n",
      "RangeIndex: 432354 entries, 0 to 432353\n",
      "Data columns (total 14 columns):\n",
      "duration_sec               432354 non-null int64\n",
      "start_time                 432354 non-null object\n",
      "end_time                   432354 non-null object\n",
      "start_station_id           161723 non-null float64\n",
      "start_station_name         161723 non-null object\n",
      "start_station_latitude     432354 non-null float64\n",
      "start_station_longitude    432354 non-null float64\n",
      "end_station_id             162194 non-null float64\n",
      "end_station_name           162194 non-null object\n",
      "end_station_latitude       432354 non-null float64\n",
      "end_station_longitude      432354 non-null float64\n",
      "bike_id                    432354 non-null int64\n",
      "user_type                  432354 non-null object\n",
      "rental_access_method       317843 non-null object\n",
      "dtypes: float64(6), int64(2), object(6)\n",
      "memory usage: 46.2+ MB\n"
     ]
    }
   ],
   "source": [
    "bikeshare_Feb2020.info()"
   ]
  },
  {
   "cell_type": "markdown",
   "metadata": {},
   "source": [
    "# Trips from 4th&King during Morning Commute"
   ]
  },
  {
   "cell_type": "code",
   "execution_count": 5,
   "metadata": {},
   "outputs": [],
   "source": [
    "import datetime\n",
    "from datetime import date"
   ]
  },
  {
   "cell_type": "code",
   "execution_count": 6,
   "metadata": {},
   "outputs": [],
   "source": [
    "# Convert timestamp to date\n",
    "bikeshare_Feb2020['start_time']=pd.to_datetime(bikeshare_Feb2020['start_time'])"
   ]
  },
  {
   "cell_type": "code",
   "execution_count": 7,
   "metadata": {},
   "outputs": [],
   "source": [
    "# Extract the day from datetime\n",
    "bikeshare_Feb2020['start_date']=bikeshare_Feb2020['start_time'].dt.day"
   ]
  },
  {
   "cell_type": "code",
   "execution_count": 8,
   "metadata": {},
   "outputs": [
    {
     "data": {
      "text/html": [
       "<div>\n",
       "<style scoped>\n",
       "    .dataframe tbody tr th:only-of-type {\n",
       "        vertical-align: middle;\n",
       "    }\n",
       "\n",
       "    .dataframe tbody tr th {\n",
       "        vertical-align: top;\n",
       "    }\n",
       "\n",
       "    .dataframe thead th {\n",
       "        text-align: right;\n",
       "    }\n",
       "</style>\n",
       "<table border=\"1\" class=\"dataframe\">\n",
       "  <thead>\n",
       "    <tr style=\"text-align: right;\">\n",
       "      <th></th>\n",
       "      <th>duration_sec</th>\n",
       "      <th>start_time</th>\n",
       "      <th>end_time</th>\n",
       "      <th>start_station_id</th>\n",
       "      <th>start_station_name</th>\n",
       "      <th>start_station_latitude</th>\n",
       "      <th>start_station_longitude</th>\n",
       "      <th>end_station_id</th>\n",
       "      <th>end_station_name</th>\n",
       "      <th>end_station_latitude</th>\n",
       "      <th>end_station_longitude</th>\n",
       "      <th>bike_id</th>\n",
       "      <th>user_type</th>\n",
       "      <th>rental_access_method</th>\n",
       "      <th>start_date</th>\n",
       "    </tr>\n",
       "  </thead>\n",
       "  <tbody>\n",
       "    <tr>\n",
       "      <td>0</td>\n",
       "      <td>62083</td>\n",
       "      <td>2020-02-29 18:32:30.575</td>\n",
       "      <td>2020-03-01 11:47:14.0850</td>\n",
       "      <td>176.0</td>\n",
       "      <td>MacArthur BART Station</td>\n",
       "      <td>37.828410</td>\n",
       "      <td>-122.266315</td>\n",
       "      <td>267.0</td>\n",
       "      <td>Derby St at College Ave</td>\n",
       "      <td>37.861804</td>\n",
       "      <td>-122.253569</td>\n",
       "      <td>1993</td>\n",
       "      <td>Customer</td>\n",
       "      <td>NaN</td>\n",
       "      <td>29</td>\n",
       "    </tr>\n",
       "    <tr>\n",
       "      <td>1</td>\n",
       "      <td>1364</td>\n",
       "      <td>2020-02-29 23:53:53.719</td>\n",
       "      <td>2020-03-01 00:16:37.9720</td>\n",
       "      <td>375.0</td>\n",
       "      <td>Grove St at Masonic Ave</td>\n",
       "      <td>37.774836</td>\n",
       "      <td>-122.446546</td>\n",
       "      <td>506.0</td>\n",
       "      <td>7th Ave at Clement St</td>\n",
       "      <td>37.782439</td>\n",
       "      <td>-122.465377</td>\n",
       "      <td>12402</td>\n",
       "      <td>Customer</td>\n",
       "      <td>NaN</td>\n",
       "      <td>29</td>\n",
       "    </tr>\n",
       "    <tr>\n",
       "      <td>2</td>\n",
       "      <td>836</td>\n",
       "      <td>2020-02-29 23:54:03.197</td>\n",
       "      <td>2020-03-01 00:07:59.8490</td>\n",
       "      <td>375.0</td>\n",
       "      <td>Grove St at Masonic Ave</td>\n",
       "      <td>37.774836</td>\n",
       "      <td>-122.446546</td>\n",
       "      <td>454.0</td>\n",
       "      <td>7th Ave at Cabrillo St</td>\n",
       "      <td>37.775176</td>\n",
       "      <td>-122.465007</td>\n",
       "      <td>2302</td>\n",
       "      <td>Customer</td>\n",
       "      <td>NaN</td>\n",
       "      <td>29</td>\n",
       "    </tr>\n",
       "    <tr>\n",
       "      <td>3</td>\n",
       "      <td>1004</td>\n",
       "      <td>2020-02-29 23:48:34.648</td>\n",
       "      <td>2020-03-01 00:05:19.2020</td>\n",
       "      <td>179.0</td>\n",
       "      <td>Telegraph Ave at 27th St</td>\n",
       "      <td>37.816073</td>\n",
       "      <td>-122.267886</td>\n",
       "      <td>200.0</td>\n",
       "      <td>2nd Ave at E 18th St</td>\n",
       "      <td>37.800214</td>\n",
       "      <td>-122.253810</td>\n",
       "      <td>902</td>\n",
       "      <td>Customer</td>\n",
       "      <td>NaN</td>\n",
       "      <td>29</td>\n",
       "    </tr>\n",
       "    <tr>\n",
       "      <td>4</td>\n",
       "      <td>1007</td>\n",
       "      <td>2020-02-29 23:48:25.900</td>\n",
       "      <td>2020-03-01 00:05:13.4490</td>\n",
       "      <td>179.0</td>\n",
       "      <td>Telegraph Ave at 27th St</td>\n",
       "      <td>37.816073</td>\n",
       "      <td>-122.267886</td>\n",
       "      <td>200.0</td>\n",
       "      <td>2nd Ave at E 18th St</td>\n",
       "      <td>37.800214</td>\n",
       "      <td>-122.253810</td>\n",
       "      <td>11578</td>\n",
       "      <td>Customer</td>\n",
       "      <td>NaN</td>\n",
       "      <td>29</td>\n",
       "    </tr>\n",
       "  </tbody>\n",
       "</table>\n",
       "</div>"
      ],
      "text/plain": [
       "   duration_sec              start_time                  end_time  \\\n",
       "0         62083 2020-02-29 18:32:30.575  2020-03-01 11:47:14.0850   \n",
       "1          1364 2020-02-29 23:53:53.719  2020-03-01 00:16:37.9720   \n",
       "2           836 2020-02-29 23:54:03.197  2020-03-01 00:07:59.8490   \n",
       "3          1004 2020-02-29 23:48:34.648  2020-03-01 00:05:19.2020   \n",
       "4          1007 2020-02-29 23:48:25.900  2020-03-01 00:05:13.4490   \n",
       "\n",
       "   start_station_id        start_station_name  start_station_latitude  \\\n",
       "0             176.0    MacArthur BART Station               37.828410   \n",
       "1             375.0   Grove St at Masonic Ave               37.774836   \n",
       "2             375.0   Grove St at Masonic Ave               37.774836   \n",
       "3             179.0  Telegraph Ave at 27th St               37.816073   \n",
       "4             179.0  Telegraph Ave at 27th St               37.816073   \n",
       "\n",
       "   start_station_longitude  end_station_id         end_station_name  \\\n",
       "0              -122.266315           267.0  Derby St at College Ave   \n",
       "1              -122.446546           506.0    7th Ave at Clement St   \n",
       "2              -122.446546           454.0   7th Ave at Cabrillo St   \n",
       "3              -122.267886           200.0     2nd Ave at E 18th St   \n",
       "4              -122.267886           200.0     2nd Ave at E 18th St   \n",
       "\n",
       "   end_station_latitude  end_station_longitude  bike_id user_type  \\\n",
       "0             37.861804            -122.253569     1993  Customer   \n",
       "1             37.782439            -122.465377    12402  Customer   \n",
       "2             37.775176            -122.465007     2302  Customer   \n",
       "3             37.800214            -122.253810      902  Customer   \n",
       "4             37.800214            -122.253810    11578  Customer   \n",
       "\n",
       "  rental_access_method  start_date  \n",
       "0                  NaN          29  \n",
       "1                  NaN          29  \n",
       "2                  NaN          29  \n",
       "3                  NaN          29  \n",
       "4                  NaN          29  "
      ]
     },
     "execution_count": 8,
     "metadata": {},
     "output_type": "execute_result"
    }
   ],
   "source": [
    "bikeshare_Feb2020.head(5)"
   ]
  },
  {
   "cell_type": "code",
   "execution_count": 9,
   "metadata": {},
   "outputs": [],
   "source": [
    "# There are two bikeshare stations near Caltrain station\n",
    "four_king=bikeshare_Feb2020[(bikeshare_Feb2020['start_station_id']==30.0)|\n",
    "                            (bikeshare_Feb2020['start_station_id']==465.0)]"
   ]
  },
  {
   "cell_type": "code",
   "execution_count": 10,
   "metadata": {},
   "outputs": [
    {
     "data": {
      "text/plain": [
       "26    260\n",
       "24    242\n",
       "25    227\n",
       "3     223\n",
       "27    222\n",
       "4     211\n",
       "21    192\n",
       "28    192\n",
       "10    176\n",
       "18    164\n",
       "19    157\n",
       "12    155\n",
       "11    149\n",
       "20    146\n",
       "6     145\n",
       "13    143\n",
       "14    135\n",
       "7     126\n",
       "5     124\n",
       "1      62\n",
       "2      55\n",
       "17     54\n",
       "8      52\n",
       "22     46\n",
       "16     36\n",
       "23     35\n",
       "15     34\n",
       "29     33\n",
       "9      29\n",
       "Name: start_date, dtype: int64"
      ]
     },
     "execution_count": 10,
     "metadata": {},
     "output_type": "execute_result"
    }
   ],
   "source": [
    "# Sort by date to find out the peak-of-the-peak\n",
    "four_king['start_date'].value_counts()"
   ]
  },
  {
   "cell_type": "code",
   "execution_count": 11,
   "metadata": {},
   "outputs": [],
   "source": [
    "# Extract trip starting time within morning commute hours (7:30-9:30)\n",
    "four_king_commute=four_king[four_king['start_time'].between(\n",
    "    datetime.datetime(2020, 2, 26, 7, 30, 0),\n",
    "    datetime.datetime(2020, 2, 26, 9, 30, 0))]"
   ]
  },
  {
   "cell_type": "code",
   "execution_count": 12,
   "metadata": {},
   "outputs": [
    {
     "name": "stdout",
     "output_type": "stream",
     "text": [
      "<class 'pandas.core.frame.DataFrame'>\n",
      "Int64Index: 67 entries, 17502 to 273260\n",
      "Data columns (total 15 columns):\n",
      "duration_sec               67 non-null int64\n",
      "start_time                 67 non-null datetime64[ns]\n",
      "end_time                   67 non-null object\n",
      "start_station_id           67 non-null float64\n",
      "start_station_name         67 non-null object\n",
      "start_station_latitude     67 non-null float64\n",
      "start_station_longitude    67 non-null float64\n",
      "end_station_id             65 non-null float64\n",
      "end_station_name           65 non-null object\n",
      "end_station_latitude       67 non-null float64\n",
      "end_station_longitude      67 non-null float64\n",
      "bike_id                    67 non-null int64\n",
      "user_type                  67 non-null object\n",
      "rental_access_method       2 non-null object\n",
      "start_date                 67 non-null int64\n",
      "dtypes: datetime64[ns](1), float64(6), int64(3), object(5)\n",
      "memory usage: 8.4+ KB\n"
     ]
    }
   ],
   "source": [
    "four_king_commute.info()"
   ]
  },
  {
   "cell_type": "code",
   "execution_count": 13,
   "metadata": {},
   "outputs": [],
   "source": [
    "# Convert to geodataframe\n",
    "four_king_commute_des= gpd.GeoDataFrame(\n",
    "    four_king_commute, geometry=gpd.points_from_xy(four_king_commute.end_station_longitude, four_king_commute.end_station_latitude))"
   ]
  },
  {
   "cell_type": "code",
   "execution_count": 14,
   "metadata": {},
   "outputs": [
    {
     "data": {
      "text/plain": [
       "<matplotlib.axes._subplots.AxesSubplot at 0x7fb58f1200d0>"
      ]
     },
     "execution_count": 14,
     "metadata": {},
     "output_type": "execute_result"
    },
    {
     "data": {
      "image/png": "[encoded data removed]",
      "text/plain": [
       "<Figure size 432x288 with 1 Axes>"
      ]
     },
     "metadata": {
      "needs_background": "light"
     },
     "output_type": "display_data"
    }
   ],
   "source": [
    "four_king_commute_des.plot()"
   ]
  },
  {
   "cell_type": "code",
   "execution_count": 15,
   "metadata": {},
   "outputs": [],
   "source": [
    "# Have to drop the timestamp when exporting to GeoJson format\n",
    "four_king_commute_des=four_king_commute_des.drop(columns=['start_time','end_time'])"
   ]
  },
  {
   "cell_type": "code",
   "execution_count": 16,
   "metadata": {},
   "outputs": [],
   "source": [
    "four_king_commute_des.to_file('20200226_from_4th&king_destination_AMPeak', driver=\"GeoJSON\")"
   ]
  },
  {
   "cell_type": "markdown",
   "metadata": {},
   "source": [
    "# Export all day bikeshare trips"
   ]
  },
  {
   "cell_type": "code",
   "execution_count": 17,
   "metadata": {
    "scrolled": true
   },
   "outputs": [],
   "source": [
    "bikeshare_Feb26=bikeshare_Feb2020[bikeshare_Feb2020['start_date']==26]"
   ]
  },
  {
   "cell_type": "code",
   "execution_count": 18,
   "metadata": {},
   "outputs": [
    {
     "data": {
      "text/html": [
       "<div>\n",
       "<style scoped>\n",
       "    .dataframe tbody tr th:only-of-type {\n",
       "        vertical-align: middle;\n",
       "    }\n",
       "\n",
       "    .dataframe tbody tr th {\n",
       "        vertical-align: top;\n",
       "    }\n",
       "\n",
       "    .dataframe thead th {\n",
       "        text-align: right;\n",
       "    }\n",
       "</style>\n",
       "<table border=\"1\" class=\"dataframe\">\n",
       "  <thead>\n",
       "    <tr style=\"text-align: right;\">\n",
       "      <th></th>\n",
       "      <th>duration_sec</th>\n",
       "      <th>start_time</th>\n",
       "      <th>end_time</th>\n",
       "      <th>start_station_id</th>\n",
       "      <th>start_station_name</th>\n",
       "      <th>start_station_latitude</th>\n",
       "      <th>start_station_longitude</th>\n",
       "      <th>end_station_id</th>\n",
       "      <th>end_station_name</th>\n",
       "      <th>end_station_latitude</th>\n",
       "      <th>end_station_longitude</th>\n",
       "      <th>bike_id</th>\n",
       "      <th>user_type</th>\n",
       "      <th>rental_access_method</th>\n",
       "      <th>start_date</th>\n",
       "    </tr>\n",
       "  </thead>\n",
       "  <tbody>\n",
       "    <tr>\n",
       "      <td>10715</td>\n",
       "      <td>58179</td>\n",
       "      <td>2020-02-26 21:35:14.753</td>\n",
       "      <td>2020-02-27 13:44:54.5180</td>\n",
       "      <td>10.0</td>\n",
       "      <td>Washington St at Kearny St</td>\n",
       "      <td>37.795393</td>\n",
       "      <td>-122.404770</td>\n",
       "      <td>449.0</td>\n",
       "      <td>16th Depot Bike Fleet Station</td>\n",
       "      <td>0.000000</td>\n",
       "      <td>0.000000</td>\n",
       "      <td>12252</td>\n",
       "      <td>Customer</td>\n",
       "      <td>NaN</td>\n",
       "      <td>26</td>\n",
       "    </tr>\n",
       "    <tr>\n",
       "      <td>11142</td>\n",
       "      <td>47886</td>\n",
       "      <td>2020-02-26 22:21:32.722</td>\n",
       "      <td>2020-02-27 11:39:39.0300</td>\n",
       "      <td>241.0</td>\n",
       "      <td>Ashby BART Station</td>\n",
       "      <td>37.852477</td>\n",
       "      <td>-122.270213</td>\n",
       "      <td>241.0</td>\n",
       "      <td>Ashby BART Station</td>\n",
       "      <td>37.852477</td>\n",
       "      <td>-122.270213</td>\n",
       "      <td>3311</td>\n",
       "      <td>Customer</td>\n",
       "      <td>NaN</td>\n",
       "      <td>26</td>\n",
       "    </tr>\n",
       "    <tr>\n",
       "      <td>11616</td>\n",
       "      <td>63622</td>\n",
       "      <td>2020-02-26 16:06:39.632</td>\n",
       "      <td>2020-02-27 09:47:01.9820</td>\n",
       "      <td>9.0</td>\n",
       "      <td>Broadway at Battery St</td>\n",
       "      <td>37.798572</td>\n",
       "      <td>-122.400869</td>\n",
       "      <td>30.0</td>\n",
       "      <td>San Francisco Caltrain (Townsend St at 4th St)</td>\n",
       "      <td>37.776598</td>\n",
       "      <td>-122.395282</td>\n",
       "      <td>1369</td>\n",
       "      <td>Customer</td>\n",
       "      <td>NaN</td>\n",
       "      <td>26</td>\n",
       "    </tr>\n",
       "    <tr>\n",
       "      <td>11919</td>\n",
       "      <td>82483</td>\n",
       "      <td>2020-02-26 10:22:26.899</td>\n",
       "      <td>2020-02-27 09:17:09.9670</td>\n",
       "      <td>15.0</td>\n",
       "      <td>San Francisco Ferry Building (Harry Bridges Pl...</td>\n",
       "      <td>37.795392</td>\n",
       "      <td>-122.394203</td>\n",
       "      <td>387.0</td>\n",
       "      <td>Randall St at Chenery St</td>\n",
       "      <td>37.739813</td>\n",
       "      <td>-122.425523</td>\n",
       "      <td>12220</td>\n",
       "      <td>Customer</td>\n",
       "      <td>NaN</td>\n",
       "      <td>26</td>\n",
       "    </tr>\n",
       "    <tr>\n",
       "      <td>12170</td>\n",
       "      <td>52918</td>\n",
       "      <td>2020-02-26 18:17:06.220</td>\n",
       "      <td>2020-02-27 08:59:04.5860</td>\n",
       "      <td>171.0</td>\n",
       "      <td>Rockridge BART Station</td>\n",
       "      <td>37.844279</td>\n",
       "      <td>-122.251900</td>\n",
       "      <td>176.0</td>\n",
       "      <td>MacArthur BART Station</td>\n",
       "      <td>37.828410</td>\n",
       "      <td>-122.266315</td>\n",
       "      <td>11519</td>\n",
       "      <td>Customer</td>\n",
       "      <td>NaN</td>\n",
       "      <td>26</td>\n",
       "    </tr>\n",
       "  </tbody>\n",
       "</table>\n",
       "</div>"
      ],
      "text/plain": [
       "       duration_sec              start_time                  end_time  \\\n",
       "10715         58179 2020-02-26 21:35:14.753  2020-02-27 13:44:54.5180   \n",
       "11142         47886 2020-02-26 22:21:32.722  2020-02-27 11:39:39.0300   \n",
       "11616         63622 2020-02-26 16:06:39.632  2020-02-27 09:47:01.9820   \n",
       "11919         82483 2020-02-26 10:22:26.899  2020-02-27 09:17:09.9670   \n",
       "12170         52918 2020-02-26 18:17:06.220  2020-02-27 08:59:04.5860   \n",
       "\n",
       "       start_station_id                                 start_station_name  \\\n",
       "10715              10.0                         Washington St at Kearny St   \n",
       "11142             241.0                                 Ashby BART Station   \n",
       "11616               9.0                             Broadway at Battery St   \n",
       "11919              15.0  San Francisco Ferry Building (Harry Bridges Pl...   \n",
       "12170             171.0                             Rockridge BART Station   \n",
       "\n",
       "       start_station_latitude  start_station_longitude  end_station_id  \\\n",
       "10715               37.795393              -122.404770           449.0   \n",
       "11142               37.852477              -122.270213           241.0   \n",
       "11616               37.798572              -122.400869            30.0   \n",
       "11919               37.795392              -122.394203           387.0   \n",
       "12170               37.844279              -122.251900           176.0   \n",
       "\n",
       "                                     end_station_name  end_station_latitude  \\\n",
       "10715                   16th Depot Bike Fleet Station              0.000000   \n",
       "11142                              Ashby BART Station             37.852477   \n",
       "11616  San Francisco Caltrain (Townsend St at 4th St)             37.776598   \n",
       "11919                        Randall St at Chenery St             37.739813   \n",
       "12170                          MacArthur BART Station             37.828410   \n",
       "\n",
       "       end_station_longitude  bike_id user_type rental_access_method  \\\n",
       "10715               0.000000    12252  Customer                  NaN   \n",
       "11142            -122.270213     3311  Customer                  NaN   \n",
       "11616            -122.395282     1369  Customer                  NaN   \n",
       "11919            -122.425523    12220  Customer                  NaN   \n",
       "12170            -122.266315    11519  Customer                  NaN   \n",
       "\n",
       "       start_date  \n",
       "10715          26  \n",
       "11142          26  \n",
       "11616          26  \n",
       "11919          26  \n",
       "12170          26  "
      ]
     },
     "execution_count": 18,
     "metadata": {},
     "output_type": "execute_result"
    }
   ],
   "source": [
    "bikeshare_Feb26.head(5)"
   ]
  },
  {
   "cell_type": "code",
   "execution_count": 21,
   "metadata": {
    "scrolled": true
   },
   "outputs": [],
   "source": [
    "bikeshare_Feb262020= gpd.GeoDataFrame(\n",
    "    bikeshare_Feb26, geometry=gpd.points_from_xy(bikeshare_Feb26.start_station_longitude, bikeshare_Feb26.start_station_latitude))"
   ]
  },
  {
   "cell_type": "code",
   "execution_count": 22,
   "metadata": {},
   "outputs": [
    {
     "data": {
      "text/plain": [
       "<matplotlib.axes._subplots.AxesSubplot at 0x7fb57a397f50>"
      ]
     },
     "execution_count": 22,
     "metadata": {},
     "output_type": "execute_result"
    },
    {
     "data": {
      "image/png": "[encoded data removed]",
      "text/plain": [
       "<Figure size 432x288 with 1 Axes>"
      ]
     },
     "metadata": {
      "needs_background": "light"
     },
     "output_type": "display_data"
    }
   ],
   "source": [
    "bikeshare_Feb262020.plot()"
   ]
  },
  {
   "cell_type": "code",
   "execution_count": 24,
   "metadata": {},
   "outputs": [],
   "source": [
    "# Filter record in SF\n",
    "bikeshare_Feb262020_clean_SF=bikeshare_Feb262020[\n",
    "    (bikeshare_Feb262020['start_station_latitude'].between(37.6000,38.203300)) & \n",
    "    (bikeshare_Feb262020['start_station_longitude'].between(-122.6445,-122.3500))]"
   ]
  },
  {
   "cell_type": "code",
   "execution_count": 25,
   "metadata": {},
   "outputs": [
    {
     "data": {
      "text/plain": [
       "<matplotlib.axes._subplots.AxesSubplot at 0x7fb57b6a9810>"
      ]
     },
     "execution_count": 25,
     "metadata": {},
     "output_type": "execute_result"
    },
    {
     "data": {
      "image/png": "[encoded data removed]",
      "text/plain": [
       "<Figure size 720x720 with 1 Axes>"
      ]
     },
     "metadata": {
      "needs_background": "light"
     },
     "output_type": "display_data"
    }
   ],
   "source": [
    "bikeshare_Feb262020_clean_SF.plot(figsize=(10,10))"
   ]
  },
  {
   "cell_type": "code",
   "execution_count": 26,
   "metadata": {},
   "outputs": [],
   "source": [
    "bikeshare_Feb262020_clean_SF=bikeshare_Feb262020_clean_SF.drop(columns=['start_time','end_time'])"
   ]
  },
  {
   "cell_type": "code",
   "execution_count": 27,
   "metadata": {},
   "outputs": [],
   "source": [
    "bikeshare_Feb262020_clean_SF.to_file('20200226_bikeshare_OD', driver=\"GeoJSON\")"
   ]
  }
 ],
 "metadata": {
  "kernelspec": {
   "display_name": "Python 3",
   "language": "python",
   "name": "python3"
  },
  "language_info": {
   "codemirror_mode": {
    "name": "ipython",
    "version": 3
   },
   "file_extension": ".py",
   "mimetype": "text/x-python",
   "name": "python",
   "nbconvert_exporter": "python",
   "pygments_lexer": "ipython3",
   "version": "3.7.4"
  }
 },
 "nbformat": 4,
 "nbformat_minor": 2
}
